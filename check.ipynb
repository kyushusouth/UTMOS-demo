{
 "cells": [
  {
   "cell_type": "code",
   "execution_count": 2,
   "metadata": {},
   "outputs": [],
   "source": [
    "import polars as pl"
   ]
  },
  {
   "cell_type": "code",
   "execution_count": 3,
   "metadata": {},
   "outputs": [
    {
     "data": {
      "text/html": [
       "<div><style>\n",
       ".dataframe > thead > tr,\n",
       ".dataframe > tbody > tr {\n",
       "  text-align: right;\n",
       "  white-space: pre-wrap;\n",
       "}\n",
       "</style>\n",
       "<small>shape: (4_452, 5)</small><table border=\"1\" class=\"dataframe\"><thead><tr><th>score</th><th>date</th><th>speaker</th><th>sample</th><th>kind</th></tr><tr><td>f64</td><td>str</td><td>str</td><td>str</td><td>str</td></tr></thead><tbody><tr><td>2.794918</td><td>&quot;20240621_134621&quot;</td><td>&quot;M01_kablab&quot;</td><td>&quot;ATR503_j15&quot;</td><td>&quot;abs&quot;</td></tr><tr><td>3.896403</td><td>&quot;20240621_134621&quot;</td><td>&quot;F01_kablab&quot;</td><td>&quot;ATR503_j28&quot;</td><td>&quot;gt&quot;</td></tr><tr><td>1.343504</td><td>&quot;20240623_001016&quot;</td><td>&quot;F02_kablab&quot;</td><td>&quot;ATR503_j28&quot;</td><td>&quot;pred&quot;</td></tr><tr><td>3.798431</td><td>&quot;20240621_134621&quot;</td><td>&quot;F01_kablab&quot;</td><td>&quot;ATR503_j13&quot;</td><td>&quot;gt&quot;</td></tr><tr><td>2.896072</td><td>&quot;20240623_001016&quot;</td><td>&quot;M04_kablab&quot;</td><td>&quot;ATR503_j32&quot;</td><td>&quot;abs&quot;</td></tr><tr><td>&hellip;</td><td>&hellip;</td><td>&hellip;</td><td>&hellip;</td><td>&hellip;</td></tr><tr><td>2.306175</td><td>&quot;20240621_134621&quot;</td><td>&quot;M01_kablab&quot;</td><td>&quot;ATR503_j05&quot;</td><td>&quot;pred&quot;</td></tr><tr><td>1.900632</td><td>&quot;20240621_134621&quot;</td><td>&quot;M04_kablab&quot;</td><td>&quot;ATR503_j04&quot;</td><td>&quot;pred&quot;</td></tr><tr><td>1.687256</td><td>&quot;20240622_003027&quot;</td><td>&quot;F01_kablab&quot;</td><td>&quot;ATR503_j28&quot;</td><td>&quot;pred&quot;</td></tr><tr><td>3.72426</td><td>&quot;20240623_001016&quot;</td><td>&quot;M04_kablab&quot;</td><td>&quot;ATR503_j28&quot;</td><td>&quot;gt&quot;</td></tr><tr><td>2.177433</td><td>&quot;20240621_134621&quot;</td><td>&quot;F01_kablab&quot;</td><td>&quot;ATR503_j08&quot;</td><td>&quot;pred&quot;</td></tr></tbody></table></div>"
      ],
      "text/plain": [
       "shape: (4_452, 5)\n",
       "┌──────────┬─────────────────┬────────────┬────────────┬──────┐\n",
       "│ score    ┆ date            ┆ speaker    ┆ sample     ┆ kind │\n",
       "│ ---      ┆ ---             ┆ ---        ┆ ---        ┆ ---  │\n",
       "│ f64      ┆ str             ┆ str        ┆ str        ┆ str  │\n",
       "╞══════════╪═════════════════╪════════════╪════════════╪══════╡\n",
       "│ 2.794918 ┆ 20240621_134621 ┆ M01_kablab ┆ ATR503_j15 ┆ abs  │\n",
       "│ 3.896403 ┆ 20240621_134621 ┆ F01_kablab ┆ ATR503_j28 ┆ gt   │\n",
       "│ 1.343504 ┆ 20240623_001016 ┆ F02_kablab ┆ ATR503_j28 ┆ pred │\n",
       "│ 3.798431 ┆ 20240621_134621 ┆ F01_kablab ┆ ATR503_j13 ┆ gt   │\n",
       "│ 2.896072 ┆ 20240623_001016 ┆ M04_kablab ┆ ATR503_j32 ┆ abs  │\n",
       "│ …        ┆ …               ┆ …          ┆ …          ┆ …    │\n",
       "│ 2.306175 ┆ 20240621_134621 ┆ M01_kablab ┆ ATR503_j05 ┆ pred │\n",
       "│ 1.900632 ┆ 20240621_134621 ┆ M04_kablab ┆ ATR503_j04 ┆ pred │\n",
       "│ 1.687256 ┆ 20240622_003027 ┆ F01_kablab ┆ ATR503_j28 ┆ pred │\n",
       "│ 3.72426  ┆ 20240623_001016 ┆ M04_kablab ┆ ATR503_j28 ┆ gt   │\n",
       "│ 2.177433 ┆ 20240621_134621 ┆ F01_kablab ┆ ATR503_j08 ┆ pred │\n",
       "└──────────┴─────────────────┴────────────┴────────────┴──────┘"
      ]
     },
     "execution_count": 3,
     "metadata": {},
     "output_type": "execute_result"
    }
   ],
   "source": [
    "df = pl.read_csv(\"./result.csv\")\n",
    "df"
   ]
  },
  {
   "cell_type": "code",
   "execution_count": 4,
   "metadata": {},
   "outputs": [],
   "source": [
    "df.group_by([\"date\", \"kind\"]).agg(pl.col(\"score\").mean()).sort(\"score\").write_csv(\n",
    "    \"./result_agg.csv\"\n",
    ")"
   ]
  },
  {
   "cell_type": "code",
   "execution_count": 6,
   "metadata": {},
   "outputs": [],
   "source": [
    "df.group_by([\"date\", \"kind\"]).agg(\n",
    "    pl.col(\"score\").mean().alias(\"score_mean\"),\n",
    "    pl.col(\"score\").std().alias(\"score_std\"),\n",
    "    pl.col(\"score\").min().alias(\"score_min\"),\n",
    "    pl.col(\"score\").max().alias(\"score_max\"),\n",
    ").write_csv('result_stats.csv')"
   ]
  },
  {
   "cell_type": "code",
   "execution_count": null,
   "metadata": {},
   "outputs": [],
   "source": []
  }
 ],
 "metadata": {
  "kernelspec": {
   "display_name": ".venv",
   "language": "python",
   "name": "python3"
  },
  "language_info": {
   "codemirror_mode": {
    "name": "ipython",
    "version": 3
   },
   "file_extension": ".py",
   "mimetype": "text/x-python",
   "name": "python",
   "nbconvert_exporter": "python",
   "pygments_lexer": "ipython3",
   "version": "3.9.17"
  }
 },
 "nbformat": 4,
 "nbformat_minor": 2
}
